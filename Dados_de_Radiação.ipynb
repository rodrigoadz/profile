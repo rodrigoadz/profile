{
  "nbformat": 4,
  "nbformat_minor": 0,
  "metadata": {
    "colab": {
      "name": "Dados de Radiação",
      "provenance": [],
      "collapsed_sections": [],
      "authorship_tag": "ABX9TyP/MWKRF+ozTkOii2q7VhGY",
      "include_colab_link": true
    },
    "kernelspec": {
      "name": "python3",
      "display_name": "Python 3"
    }
  },
  "cells": [
    {
      "cell_type": "markdown",
      "metadata": {
        "id": "view-in-github",
        "colab_type": "text"
      },
      "source": [
        "<a href=\"https://colab.research.google.com/github/rodrigoadz/profile/blob/master/Dados_de_Radia%C3%A7%C3%A3o.ipynb\" target=\"_parent\"><img src=\"https://colab.research.google.com/assets/colab-badge.svg\" alt=\"Open In Colab\"/></a>"
      ]
    },
    {
      "cell_type": "markdown",
      "metadata": {
        "id": "pq8sgFe5qQ-K",
        "colab_type": "text"
      },
      "source": [
        "# Exibição dos niveis de radiação do intervalo de um ano\n",
        "* Verificar qual o período do ano tem maior radiação\n",
        "* Verificar quais horarios do dia tem maior emissão de radiação\n",
        "* Prever os níveis de radiação futuros"
      ]
    },
    {
      "cell_type": "code",
      "metadata": {
        "id": "9M4ZrtNiek3A",
        "colab_type": "code",
        "colab": {}
      },
      "source": [
        "#Importação das bibliotecas\n",
        "import pandas as pd\n",
        "import matplotlib.pyplot as plt\n",
        "import numpy as np\n",
        "import matplotlib.dates as mdates"
      ],
      "execution_count": null,
      "outputs": []
    },
    {
      "cell_type": "code",
      "metadata": {
        "id": "bJe_8-OyoWzN",
        "colab_type": "code",
        "colab": {}
      },
      "source": [
        "#Importar os dados para o dataframe\n",
        "df = pd.read_csv('https://raw.githubusercontent.com/rodrigoadz/dados_radiacao/master/dados_radiacao.csv', delimiter='\\t')"
      ],
      "execution_count": null,
      "outputs": []
    },
    {
      "cell_type": "markdown",
      "metadata": {
        "id": "SqLZum2vETMC",
        "colab_type": "text"
      },
      "source": [
        "## Análise dos dados\n"
      ]
    },
    {
      "cell_type": "code",
      "metadata": {
        "id": "YSRkntCJodut",
        "colab_type": "code",
        "colab": {
          "base_uri": "https://localhost:8080/",
          "height": 204
        },
        "outputId": "e7080659-ce7c-4e7f-b241-bbbb70a61427"
      },
      "source": [
        "#Carregar as 5 primeiras linhas\n",
        "df.head()"
      ],
      "execution_count": null,
      "outputs": [
        {
          "output_type": "execute_result",
          "data": {
            "text/html": [
              "<div>\n",
              "<style scoped>\n",
              "    .dataframe tbody tr th:only-of-type {\n",
              "        vertical-align: middle;\n",
              "    }\n",
              "\n",
              "    .dataframe tbody tr th {\n",
              "        vertical-align: top;\n",
              "    }\n",
              "\n",
              "    .dataframe thead th {\n",
              "        text-align: right;\n",
              "    }\n",
              "</style>\n",
              "<table border=\"1\" class=\"dataframe\">\n",
              "  <thead>\n",
              "    <tr style=\"text-align: right;\">\n",
              "      <th></th>\n",
              "      <th>Data</th>\n",
              "      <th>Hora</th>\n",
              "      <th>Radiação</th>\n",
              "    </tr>\n",
              "  </thead>\n",
              "  <tbody>\n",
              "    <tr>\n",
              "      <th>0</th>\n",
              "      <td>NaN</td>\n",
              "      <td>UTC</td>\n",
              "      <td>(kJ/m²)</td>\n",
              "    </tr>\n",
              "    <tr>\n",
              "      <th>1</th>\n",
              "      <td>03/06/2019</td>\n",
              "      <td>0</td>\n",
              "      <td>0,794</td>\n",
              "    </tr>\n",
              "    <tr>\n",
              "      <th>2</th>\n",
              "      <td>03/06/2019</td>\n",
              "      <td>1</td>\n",
              "      <td>0</td>\n",
              "    </tr>\n",
              "    <tr>\n",
              "      <th>3</th>\n",
              "      <td>03/06/2019</td>\n",
              "      <td>2</td>\n",
              "      <td>0</td>\n",
              "    </tr>\n",
              "    <tr>\n",
              "      <th>4</th>\n",
              "      <td>03/06/2019</td>\n",
              "      <td>3</td>\n",
              "      <td>0</td>\n",
              "    </tr>\n",
              "  </tbody>\n",
              "</table>\n",
              "</div>"
            ],
            "text/plain": [
              "         Data Hora Radiação\n",
              "0         NaN  UTC  (kJ/m²)\n",
              "1  03/06/2019    0    0,794\n",
              "2  03/06/2019    1        0\n",
              "3  03/06/2019    2        0\n",
              "4  03/06/2019    3        0"
            ]
          },
          "metadata": {
            "tags": []
          },
          "execution_count": 3
        }
      ]
    },
    {
      "cell_type": "code",
      "metadata": {
        "id": "7iTcUkZkXrfo",
        "colab_type": "code",
        "colab": {
          "base_uri": "https://localhost:8080/",
          "height": 187
        },
        "outputId": "3a1d4f68-b16e-426e-f7b8-afe6c5144e8d"
      },
      "source": [
        "#Verificar tipos e quantidade de variveis\n",
        "df.info()"
      ],
      "execution_count": null,
      "outputs": [
        {
          "output_type": "stream",
          "text": [
            "<class 'pandas.core.frame.DataFrame'>\n",
            "RangeIndex: 8385 entries, 0 to 8384\n",
            "Data columns (total 3 columns):\n",
            " #   Column    Non-Null Count  Dtype \n",
            "---  ------    --------------  ----- \n",
            " 0   Data      8384 non-null   object\n",
            " 1   Hora      8385 non-null   object\n",
            " 2   Radiação  8385 non-null   object\n",
            "dtypes: object(3)\n",
            "memory usage: 196.6+ KB\n"
          ],
          "name": "stdout"
        }
      ]
    },
    {
      "cell_type": "markdown",
      "metadata": {
        "id": "v2q_mu0hEcxe",
        "colab_type": "text"
      },
      "source": [
        "* Remover a primeira linha e converter o formato dos objetos\n",
        "* Trocar virgula por pontos na coluna radiação\n",
        "* Converter variaveis"
      ]
    },
    {
      "cell_type": "code",
      "metadata": {
        "id": "jjwozxomWkes",
        "colab_type": "code",
        "colab": {
          "base_uri": "https://localhost:8080/",
          "height": 204
        },
        "outputId": "ba6fdc18-87fc-4553-abcb-3c92e827a04e"
      },
      "source": [
        "#Remoção da primeira linha\n",
        "df = df.iloc[1:]\n",
        "df.head()"
      ],
      "execution_count": null,
      "outputs": [
        {
          "output_type": "execute_result",
          "data": {
            "text/html": [
              "<div>\n",
              "<style scoped>\n",
              "    .dataframe tbody tr th:only-of-type {\n",
              "        vertical-align: middle;\n",
              "    }\n",
              "\n",
              "    .dataframe tbody tr th {\n",
              "        vertical-align: top;\n",
              "    }\n",
              "\n",
              "    .dataframe thead th {\n",
              "        text-align: right;\n",
              "    }\n",
              "</style>\n",
              "<table border=\"1\" class=\"dataframe\">\n",
              "  <thead>\n",
              "    <tr style=\"text-align: right;\">\n",
              "      <th></th>\n",
              "      <th>Data</th>\n",
              "      <th>Hora</th>\n",
              "      <th>Radiação</th>\n",
              "    </tr>\n",
              "  </thead>\n",
              "  <tbody>\n",
              "    <tr>\n",
              "      <th>1</th>\n",
              "      <td>03/06/2019</td>\n",
              "      <td>0</td>\n",
              "      <td>0,794</td>\n",
              "    </tr>\n",
              "    <tr>\n",
              "      <th>2</th>\n",
              "      <td>03/06/2019</td>\n",
              "      <td>1</td>\n",
              "      <td>0</td>\n",
              "    </tr>\n",
              "    <tr>\n",
              "      <th>3</th>\n",
              "      <td>03/06/2019</td>\n",
              "      <td>2</td>\n",
              "      <td>0</td>\n",
              "    </tr>\n",
              "    <tr>\n",
              "      <th>4</th>\n",
              "      <td>03/06/2019</td>\n",
              "      <td>3</td>\n",
              "      <td>0</td>\n",
              "    </tr>\n",
              "    <tr>\n",
              "      <th>5</th>\n",
              "      <td>03/06/2019</td>\n",
              "      <td>4</td>\n",
              "      <td>0</td>\n",
              "    </tr>\n",
              "  </tbody>\n",
              "</table>\n",
              "</div>"
            ],
            "text/plain": [
              "         Data Hora Radiação\n",
              "1  03/06/2019    0    0,794\n",
              "2  03/06/2019    1        0\n",
              "3  03/06/2019    2        0\n",
              "4  03/06/2019    3        0\n",
              "5  03/06/2019    4        0"
            ]
          },
          "metadata": {
            "tags": []
          },
          "execution_count": 5
        }
      ]
    },
    {
      "cell_type": "code",
      "metadata": {
        "id": "oJFHlsYX4XUF",
        "colab_type": "code",
        "colab": {
          "base_uri": "https://localhost:8080/",
          "height": 51
        },
        "outputId": "76582d70-ec9a-40b2-ab9c-f99a46c0fabc"
      },
      "source": [
        "#Verificação de outros dados inconsistentes\n",
        "dfDrop = df[~df['Radiação'].str.contains('[0-9]')]\n",
        "dfDrop.Radiação.value_counts()"
      ],
      "execution_count": null,
      "outputs": [
        {
          "output_type": "execute_result",
          "data": {
            "text/plain": [
              "////    24\n",
              "Name: Radiação, dtype: int64"
            ]
          },
          "metadata": {
            "tags": []
          },
          "execution_count": 6
        }
      ]
    },
    {
      "cell_type": "code",
      "metadata": {
        "id": "DnoCsqUpErM3",
        "colab_type": "code",
        "colab": {
          "base_uri": "https://localhost:8080/",
          "height": 187
        },
        "outputId": "d48806c2-a835-4dcd-c96b-f7433597def4"
      },
      "source": [
        "#Converter a coluna Data para datetime\n",
        "df.Data = pd.to_datetime(df.Data, dayfirst=True)\n",
        "\n",
        "#Converter a coluna Data para int\n",
        "df.Hora = pd.to_numeric(df.Hora)\n",
        "\n",
        "#Substituir a virgula por ponto para transformar em float\n",
        "df.Radiação = df.Radiação.str.replace(',','.')\n",
        "\n",
        "#Remover os caracteres inválidos\n",
        "df = df[df.Radiação != \"////\"]\n",
        "\n",
        "#Converter a coluna Data para float\n",
        "df.Radiação = pd.to_numeric(df.Radiação)\n",
        "\n",
        "#analisar os dados\n",
        "df.info()"
      ],
      "execution_count": null,
      "outputs": [
        {
          "output_type": "stream",
          "text": [
            "<class 'pandas.core.frame.DataFrame'>\n",
            "Int64Index: 8360 entries, 1 to 8384\n",
            "Data columns (total 3 columns):\n",
            " #   Column    Non-Null Count  Dtype         \n",
            "---  ------    --------------  -----         \n",
            " 0   Data      8360 non-null   datetime64[ns]\n",
            " 1   Hora      8360 non-null   int64         \n",
            " 2   Radiação  8360 non-null   float64       \n",
            "dtypes: datetime64[ns](1), float64(1), int64(1)\n",
            "memory usage: 261.2 KB\n"
          ],
          "name": "stdout"
        }
      ]
    },
    {
      "cell_type": "markdown",
      "metadata": {
        "id": "I4BRj2EMt3fR",
        "colab_type": "text"
      },
      "source": [
        "## Os dados foram alterados com sucesso, devemos gerar a distribuição para encontrar possíveis outliers\n"
      ]
    },
    {
      "cell_type": "code",
      "metadata": {
        "id": "cFUHIpzQZ9Wq",
        "colab_type": "code",
        "colab": {
          "base_uri": "https://localhost:8080/",
          "height": 297
        },
        "outputId": "e4b8ff6f-9b93-4185-a330-8d1594bba15d"
      },
      "source": [
        "#Gerar distribuição\n",
        "df.describe()"
      ],
      "execution_count": null,
      "outputs": [
        {
          "output_type": "execute_result",
          "data": {
            "text/html": [
              "<div>\n",
              "<style scoped>\n",
              "    .dataframe tbody tr th:only-of-type {\n",
              "        vertical-align: middle;\n",
              "    }\n",
              "\n",
              "    .dataframe tbody tr th {\n",
              "        vertical-align: top;\n",
              "    }\n",
              "\n",
              "    .dataframe thead th {\n",
              "        text-align: right;\n",
              "    }\n",
              "</style>\n",
              "<table border=\"1\" class=\"dataframe\">\n",
              "  <thead>\n",
              "    <tr style=\"text-align: right;\">\n",
              "      <th></th>\n",
              "      <th>Hora</th>\n",
              "      <th>Radiação</th>\n",
              "    </tr>\n",
              "  </thead>\n",
              "  <tbody>\n",
              "    <tr>\n",
              "      <th>count</th>\n",
              "      <td>8360.000000</td>\n",
              "      <td>8360.000000</td>\n",
              "    </tr>\n",
              "    <tr>\n",
              "      <th>mean</th>\n",
              "      <td>11.511124</td>\n",
              "      <td>640.379497</td>\n",
              "    </tr>\n",
              "    <tr>\n",
              "      <th>std</th>\n",
              "      <td>6.914920</td>\n",
              "      <td>929.782835</td>\n",
              "    </tr>\n",
              "    <tr>\n",
              "      <th>min</th>\n",
              "      <td>0.000000</td>\n",
              "      <td>-3.600000</td>\n",
              "    </tr>\n",
              "    <tr>\n",
              "      <th>25%</th>\n",
              "      <td>6.000000</td>\n",
              "      <td>0.000000</td>\n",
              "    </tr>\n",
              "    <tr>\n",
              "      <th>50%</th>\n",
              "      <td>12.000000</td>\n",
              "      <td>26.720000</td>\n",
              "    </tr>\n",
              "    <tr>\n",
              "      <th>75%</th>\n",
              "      <td>17.250000</td>\n",
              "      <td>1177.250000</td>\n",
              "    </tr>\n",
              "    <tr>\n",
              "      <th>max</th>\n",
              "      <td>23.000000</td>\n",
              "      <td>3883.000000</td>\n",
              "    </tr>\n",
              "  </tbody>\n",
              "</table>\n",
              "</div>"
            ],
            "text/plain": [
              "              Hora     Radiação\n",
              "count  8360.000000  8360.000000\n",
              "mean     11.511124   640.379497\n",
              "std       6.914920   929.782835\n",
              "min       0.000000    -3.600000\n",
              "25%       6.000000     0.000000\n",
              "50%      12.000000    26.720000\n",
              "75%      17.250000  1177.250000\n",
              "max      23.000000  3883.000000"
            ]
          },
          "metadata": {
            "tags": []
          },
          "execution_count": 8
        }
      ]
    },
    {
      "cell_type": "markdown",
      "metadata": {
        "id": "KOxCOMqVuINA",
        "colab_type": "text"
      },
      "source": [
        "Após o percentil de 75% mais os dados de radiação tem seu valor em mais 2x o tamanho dos anteriores, plotando uma box podemos ilustrar o ocorrido"
      ]
    },
    {
      "cell_type": "code",
      "metadata": {
        "id": "FCTDj2LHXlol",
        "colab_type": "code",
        "colab": {
          "base_uri": "https://localhost:8080/",
          "height": 282
        },
        "outputId": "6f8a0c80-e6da-487f-d75e-dd1dbd058e74"
      },
      "source": [
        "#Representação dos outliers\n",
        "df.Radiação.plot(kind='box', vert=False, figsize=(16,4))"
      ],
      "execution_count": null,
      "outputs": [
        {
          "output_type": "execute_result",
          "data": {
            "text/plain": [
              "<matplotlib.axes._subplots.AxesSubplot at 0x7fac91b11f98>"
            ]
          },
          "metadata": {
            "tags": []
          },
          "execution_count": 9
        },
        {
          "output_type": "display_data",
          "data": {
            "image/png": "[encoded data removed]",
            "text/plain": [
              "<Figure size 1152x288 with 1 Axes>"
            ]
          },
          "metadata": {
            "tags": [],
            "needs_background": "light"
          }
        }
      ]
    },
    {
      "cell_type": "markdown",
      "metadata": {
        "id": "nYJ7eM9sut8P",
        "colab_type": "text"
      },
      "source": [
        "## Executar a limpeza dos outliers"
      ]
    },
    {
      "cell_type": "code",
      "metadata": {
        "id": "go6HzG9uyCRm",
        "colab_type": "code",
        "colab": {
          "base_uri": "https://localhost:8080/",
          "height": 68
        },
        "outputId": "94ebf647-549b-42a5-b74c-412cba0b5add"
      },
      "source": [
        "#Tratando outliers\n",
        "q1_Radiação = df.Radiação.quantile(.25)\n",
        "q3_Radiação = df.Radiação.quantile(.75)\n",
        "\n",
        "IQR_Radiação = q3_Radiação - q1_Radiação\n",
        "print('IQR da Feature Radiação:',IQR_Radiação)\n",
        "\n",
        "#Definir Limites\n",
        "sup_Radiação = q3_Radiação + 1.5 * IQR_Radiação\n",
        "inf_Radiação = q1_Radiação - 1.5 * IQR_Radiação\n",
        "\n",
        "print('Limite superior de Radiação:', sup_Radiação)\n",
        "print('Limite inferior de Radiação:', inf_Radiação)"
      ],
      "execution_count": null,
      "outputs": [
        {
          "output_type": "stream",
          "text": [
            "IQR da Feature Radiação: 1177.25\n",
            "Limite superior de Radiação: 2943.125\n",
            "Limite inferior de Radiação: -1765.875\n"
          ],
          "name": "stdout"
        }
      ]
    },
    {
      "cell_type": "code",
      "metadata": {
        "id": "gXUwhhHu0R1-",
        "colab_type": "code",
        "colab": {
          "base_uri": "https://localhost:8080/",
          "height": 51
        },
        "outputId": "5e46c699-588c-4004-e9b8-b04bbd5b6bf1"
      },
      "source": [
        "#Limpando\n",
        "\n",
        "df_clean = df.copy()\n",
        "df_clean.drop(df_clean[df_clean.Radiação > 2943.125].index, axis=0, inplace=True)\n",
        "df_clean.drop(df_clean[df_clean.Radiação < 0.0].index, axis=0, inplace=True)\n",
        "\n",
        "print('Dados antes da limpeza:', df.shape[0])\n",
        "print('Dados apos limpeza:', df_clean.shape[0])"
      ],
      "execution_count": null,
      "outputs": [
        {
          "output_type": "stream",
          "text": [
            "Dados antes da limpeza: 8360\n",
            "Dados apos limpeza: 7589\n"
          ],
          "name": "stdout"
        }
      ]
    },
    {
      "cell_type": "code",
      "metadata": {
        "id": "t4VJJEpnvBxP",
        "colab_type": "code",
        "colab": {
          "base_uri": "https://localhost:8080/",
          "height": 297
        },
        "outputId": "4adb3310-19b5-41c5-96cc-5f410ffc8a95"
      },
      "source": [
        "#Verificando valores sem outliers\n",
        "\n",
        "df_clean.describe()"
      ],
      "execution_count": null,
      "outputs": [
        {
          "output_type": "execute_result",
          "data": {
            "text/html": [
              "<div>\n",
              "<style scoped>\n",
              "    .dataframe tbody tr th:only-of-type {\n",
              "        vertical-align: middle;\n",
              "    }\n",
              "\n",
              "    .dataframe tbody tr th {\n",
              "        vertical-align: top;\n",
              "    }\n",
              "\n",
              "    .dataframe thead th {\n",
              "        text-align: right;\n",
              "    }\n",
              "</style>\n",
              "<table border=\"1\" class=\"dataframe\">\n",
              "  <thead>\n",
              "    <tr style=\"text-align: right;\">\n",
              "      <th></th>\n",
              "      <th>Hora</th>\n",
              "      <th>Radiação</th>\n",
              "    </tr>\n",
              "  </thead>\n",
              "  <tbody>\n",
              "    <tr>\n",
              "      <th>count</th>\n",
              "      <td>7589.000000</td>\n",
              "      <td>7589.000000</td>\n",
              "    </tr>\n",
              "    <tr>\n",
              "      <th>mean</th>\n",
              "      <td>11.899460</td>\n",
              "      <td>630.123129</td>\n",
              "    </tr>\n",
              "    <tr>\n",
              "      <th>std</th>\n",
              "      <td>6.928206</td>\n",
              "      <td>874.397059</td>\n",
              "    </tr>\n",
              "    <tr>\n",
              "      <th>min</th>\n",
              "      <td>0.000000</td>\n",
              "      <td>0.000000</td>\n",
              "    </tr>\n",
              "    <tr>\n",
              "      <th>25%</th>\n",
              "      <td>6.000000</td>\n",
              "      <td>0.111000</td>\n",
              "    </tr>\n",
              "    <tr>\n",
              "      <th>50%</th>\n",
              "      <td>12.000000</td>\n",
              "      <td>48.270000</td>\n",
              "    </tr>\n",
              "    <tr>\n",
              "      <th>75%</th>\n",
              "      <td>18.000000</td>\n",
              "      <td>1189.000000</td>\n",
              "    </tr>\n",
              "    <tr>\n",
              "      <th>max</th>\n",
              "      <td>23.000000</td>\n",
              "      <td>2943.000000</td>\n",
              "    </tr>\n",
              "  </tbody>\n",
              "</table>\n",
              "</div>"
            ],
            "text/plain": [
              "              Hora     Radiação\n",
              "count  7589.000000  7589.000000\n",
              "mean     11.899460   630.123129\n",
              "std       6.928206   874.397059\n",
              "min       0.000000     0.000000\n",
              "25%       6.000000     0.111000\n",
              "50%      12.000000    48.270000\n",
              "75%      18.000000  1189.000000\n",
              "max      23.000000  2943.000000"
            ]
          },
          "metadata": {
            "tags": []
          },
          "execution_count": 12
        }
      ]
    },
    {
      "cell_type": "markdown",
      "metadata": {
        "id": "y59PpDwPvOxa",
        "colab_type": "text"
      },
      "source": [
        "* é possivél notar uma diminuição no desvio padrão dos dados e também a exclusão de numeros inferiores a 0"
      ]
    },
    {
      "cell_type": "code",
      "metadata": {
        "id": "Hv_QqY0I16K_",
        "colab_type": "code",
        "colab": {
          "base_uri": "https://localhost:8080/",
          "height": 282
        },
        "outputId": "a4ab51f6-8484-4832-cf79-b76df8fb926f"
      },
      "source": [
        "#Plotando dados limpos\n",
        "df_clean.Radiação.plot(kind='box', vert=False, figsize=(16,4))"
      ],
      "execution_count": null,
      "outputs": [
        {
          "output_type": "execute_result",
          "data": {
            "text/plain": [
              "<matplotlib.axes._subplots.AxesSubplot at 0x7fac91a4db00>"
            ]
          },
          "metadata": {
            "tags": []
          },
          "execution_count": 13
        },
        {
          "output_type": "display_data",
          "data": {
            "image/png": "[encoded data removed]",
            "text/plain": [
              "<Figure size 1152x288 with 1 Axes>"
            ]
          },
          "metadata": {
            "tags": [],
            "needs_background": "light"
          }
        }
      ]
    },
    {
      "cell_type": "markdown",
      "metadata": {
        "id": "MtzuEYzxqEVL",
        "colab_type": "text"
      },
      "source": [
        "### Agrupamento e ordenação\n",
        "Os dados serão agrupados pela coluna Data Correta e ordenado pela mesma.\n",
        "Já a coluna radiação será transformada na média"
      ]
    },
    {
      "cell_type": "code",
      "metadata": {
        "id": "TE3D-ufZpqsY",
        "colab_type": "code",
        "colab": {
          "base_uri": "https://localhost:8080/",
          "height": 419
        },
        "outputId": "24dd21dd-7d83-4edb-96ba-53627f6d3a91"
      },
      "source": [
        "dfg = df_clean.groupby(['Data'])[\"Radiação\"].mean().reset_index()\n",
        "dfg"
      ],
      "execution_count": null,
      "outputs": [
        {
          "output_type": "execute_result",
          "data": {
            "text/html": [
              "<div>\n",
              "<style scoped>\n",
              "    .dataframe tbody tr th:only-of-type {\n",
              "        vertical-align: middle;\n",
              "    }\n",
              "\n",
              "    .dataframe tbody tr th {\n",
              "        vertical-align: top;\n",
              "    }\n",
              "\n",
              "    .dataframe thead th {\n",
              "        text-align: right;\n",
              "    }\n",
              "</style>\n",
              "<table border=\"1\" class=\"dataframe\">\n",
              "  <thead>\n",
              "    <tr style=\"text-align: right;\">\n",
              "      <th></th>\n",
              "      <th>Data</th>\n",
              "      <th>Radiação</th>\n",
              "    </tr>\n",
              "  </thead>\n",
              "  <tbody>\n",
              "    <tr>\n",
              "      <th>0</th>\n",
              "      <td>2019-06-03</td>\n",
              "      <td>664.567250</td>\n",
              "    </tr>\n",
              "    <tr>\n",
              "      <th>1</th>\n",
              "      <td>2019-06-04</td>\n",
              "      <td>601.368375</td>\n",
              "    </tr>\n",
              "    <tr>\n",
              "      <th>2</th>\n",
              "      <td>2019-06-05</td>\n",
              "      <td>686.341542</td>\n",
              "    </tr>\n",
              "    <tr>\n",
              "      <th>3</th>\n",
              "      <td>2019-06-06</td>\n",
              "      <td>731.963167</td>\n",
              "    </tr>\n",
              "    <tr>\n",
              "      <th>4</th>\n",
              "      <td>2019-06-07</td>\n",
              "      <td>525.003167</td>\n",
              "    </tr>\n",
              "    <tr>\n",
              "      <th>...</th>\n",
              "      <td>...</td>\n",
              "      <td>...</td>\n",
              "    </tr>\n",
              "    <tr>\n",
              "      <th>346</th>\n",
              "      <td>2020-05-27</td>\n",
              "      <td>1126.237500</td>\n",
              "    </tr>\n",
              "    <tr>\n",
              "      <th>347</th>\n",
              "      <td>2020-05-28</td>\n",
              "      <td>1108.170462</td>\n",
              "    </tr>\n",
              "    <tr>\n",
              "      <th>348</th>\n",
              "      <td>2020-05-29</td>\n",
              "      <td>895.174500</td>\n",
              "    </tr>\n",
              "    <tr>\n",
              "      <th>349</th>\n",
              "      <td>2020-05-30</td>\n",
              "      <td>724.106071</td>\n",
              "    </tr>\n",
              "    <tr>\n",
              "      <th>350</th>\n",
              "      <td>2020-05-31</td>\n",
              "      <td>777.632167</td>\n",
              "    </tr>\n",
              "  </tbody>\n",
              "</table>\n",
              "<p>351 rows × 2 columns</p>\n",
              "</div>"
            ],
            "text/plain": [
              "          Data     Radiação\n",
              "0   2019-06-03   664.567250\n",
              "1   2019-06-04   601.368375\n",
              "2   2019-06-05   686.341542\n",
              "3   2019-06-06   731.963167\n",
              "4   2019-06-07   525.003167\n",
              "..         ...          ...\n",
              "346 2020-05-27  1126.237500\n",
              "347 2020-05-28  1108.170462\n",
              "348 2020-05-29   895.174500\n",
              "349 2020-05-30   724.106071\n",
              "350 2020-05-31   777.632167\n",
              "\n",
              "[351 rows x 2 columns]"
            ]
          },
          "metadata": {
            "tags": []
          },
          "execution_count": 14
        }
      ]
    },
    {
      "cell_type": "code",
      "metadata": {
        "id": "GkUd4xYhfcUj",
        "colab_type": "code",
        "colab": {
          "base_uri": "https://localhost:8080/",
          "height": 278
        },
        "outputId": "b0fe6556-c0c5-4833-b60d-f08437824c0c"
      },
      "source": [
        "fig,ax = plt.subplots(figsize=(16,4))\n",
        "\n",
        "ax.plot(dfg.Data, dfg.Radiação)\n",
        "ax.xaxis.set_major_formatter(mdates.DateFormatter('%b\\n%Y'))\n",
        "plt.show()"
      ],
      "execution_count": null,
      "outputs": [
        {
          "output_type": "display_data",
          "data": {
            "image/png": "[encoded data removed]",
            "text/plain": [
              "<Figure size 1152x288 with 1 Axes>"
            ]
          },
          "metadata": {
            "tags": [],
            "needs_background": "light"
          }
        }
      ]
    },
    {
      "cell_type": "code",
      "metadata": {
        "id": "lhLN5Pc-qsdP",
        "colab_type": "code",
        "colab": {
          "base_uri": "https://localhost:8080/",
          "height": 793
        },
        "outputId": "ee450cbc-58e8-471f-e98b-551178192848"
      },
      "source": [
        "dfh = df_clean.groupby(['Hora'])['Radiação'].mean().reset_index()\n",
        "dfh"
      ],
      "execution_count": null,
      "outputs": [
        {
          "output_type": "execute_result",
          "data": {
            "text/html": [
              "<div>\n",
              "<style scoped>\n",
              "    .dataframe tbody tr th:only-of-type {\n",
              "        vertical-align: middle;\n",
              "    }\n",
              "\n",
              "    .dataframe tbody tr th {\n",
              "        vertical-align: top;\n",
              "    }\n",
              "\n",
              "    .dataframe thead th {\n",
              "        text-align: right;\n",
              "    }\n",
              "</style>\n",
              "<table border=\"1\" class=\"dataframe\">\n",
              "  <thead>\n",
              "    <tr style=\"text-align: right;\">\n",
              "      <th></th>\n",
              "      <th>Hora</th>\n",
              "      <th>Radiação</th>\n",
              "    </tr>\n",
              "  </thead>\n",
              "  <tbody>\n",
              "    <tr>\n",
              "      <th>0</th>\n",
              "      <td>0</td>\n",
              "      <td>4.862109</td>\n",
              "    </tr>\n",
              "    <tr>\n",
              "      <th>1</th>\n",
              "      <td>1</td>\n",
              "      <td>3.331933</td>\n",
              "    </tr>\n",
              "    <tr>\n",
              "      <th>2</th>\n",
              "      <td>2</td>\n",
              "      <td>2.211180</td>\n",
              "    </tr>\n",
              "    <tr>\n",
              "      <th>3</th>\n",
              "      <td>3</td>\n",
              "      <td>1.537354</td>\n",
              "    </tr>\n",
              "    <tr>\n",
              "      <th>4</th>\n",
              "      <td>4</td>\n",
              "      <td>1.549887</td>\n",
              "    </tr>\n",
              "    <tr>\n",
              "      <th>5</th>\n",
              "      <td>5</td>\n",
              "      <td>0.836947</td>\n",
              "    </tr>\n",
              "    <tr>\n",
              "      <th>6</th>\n",
              "      <td>6</td>\n",
              "      <td>0.775127</td>\n",
              "    </tr>\n",
              "    <tr>\n",
              "      <th>7</th>\n",
              "      <td>7</td>\n",
              "      <td>0.853324</td>\n",
              "    </tr>\n",
              "    <tr>\n",
              "      <th>8</th>\n",
              "      <td>8</td>\n",
              "      <td>0.540569</td>\n",
              "    </tr>\n",
              "    <tr>\n",
              "      <th>9</th>\n",
              "      <td>9</td>\n",
              "      <td>0.460908</td>\n",
              "    </tr>\n",
              "    <tr>\n",
              "      <th>10</th>\n",
              "      <td>10</td>\n",
              "      <td>67.543739</td>\n",
              "    </tr>\n",
              "    <tr>\n",
              "      <th>11</th>\n",
              "      <td>11</td>\n",
              "      <td>414.202653</td>\n",
              "    </tr>\n",
              "    <tr>\n",
              "      <th>12</th>\n",
              "      <td>12</td>\n",
              "      <td>1131.912897</td>\n",
              "    </tr>\n",
              "    <tr>\n",
              "      <th>13</th>\n",
              "      <td>13</td>\n",
              "      <td>1721.334429</td>\n",
              "    </tr>\n",
              "    <tr>\n",
              "      <th>14</th>\n",
              "      <td>14</td>\n",
              "      <td>2023.534925</td>\n",
              "    </tr>\n",
              "    <tr>\n",
              "      <th>15</th>\n",
              "      <td>15</td>\n",
              "      <td>2094.119561</td>\n",
              "    </tr>\n",
              "    <tr>\n",
              "      <th>16</th>\n",
              "      <td>16</td>\n",
              "      <td>2031.418182</td>\n",
              "    </tr>\n",
              "    <tr>\n",
              "      <th>17</th>\n",
              "      <td>17</td>\n",
              "      <td>1788.701639</td>\n",
              "    </tr>\n",
              "    <tr>\n",
              "      <th>18</th>\n",
              "      <td>18</td>\n",
              "      <td>1534.437630</td>\n",
              "    </tr>\n",
              "    <tr>\n",
              "      <th>19</th>\n",
              "      <td>19</td>\n",
              "      <td>1075.906829</td>\n",
              "    </tr>\n",
              "    <tr>\n",
              "      <th>20</th>\n",
              "      <td>20</td>\n",
              "      <td>607.998674</td>\n",
              "    </tr>\n",
              "    <tr>\n",
              "      <th>21</th>\n",
              "      <td>21</td>\n",
              "      <td>175.386341</td>\n",
              "    </tr>\n",
              "    <tr>\n",
              "      <th>22</th>\n",
              "      <td>22</td>\n",
              "      <td>16.246589</td>\n",
              "    </tr>\n",
              "    <tr>\n",
              "      <th>23</th>\n",
              "      <td>23</td>\n",
              "      <td>5.343819</td>\n",
              "    </tr>\n",
              "  </tbody>\n",
              "</table>\n",
              "</div>"
            ],
            "text/plain": [
              "    Hora     Radiação\n",
              "0      0     4.862109\n",
              "1      1     3.331933\n",
              "2      2     2.211180\n",
              "3      3     1.537354\n",
              "4      4     1.549887\n",
              "5      5     0.836947\n",
              "6      6     0.775127\n",
              "7      7     0.853324\n",
              "8      8     0.540569\n",
              "9      9     0.460908\n",
              "10    10    67.543739\n",
              "11    11   414.202653\n",
              "12    12  1131.912897\n",
              "13    13  1721.334429\n",
              "14    14  2023.534925\n",
              "15    15  2094.119561\n",
              "16    16  2031.418182\n",
              "17    17  1788.701639\n",
              "18    18  1534.437630\n",
              "19    19  1075.906829\n",
              "20    20   607.998674\n",
              "21    21   175.386341\n",
              "22    22    16.246589\n",
              "23    23     5.343819"
            ]
          },
          "metadata": {
            "tags": []
          },
          "execution_count": 16
        }
      ]
    },
    {
      "cell_type": "code",
      "metadata": {
        "id": "k-RZ2qkFrUhx",
        "colab_type": "code",
        "colab": {
          "base_uri": "https://localhost:8080/",
          "height": 295
        },
        "outputId": "f8acf55d-c5ed-4a8c-8515-fa6d990ff49c"
      },
      "source": [
        "objects = dfh['Hora']\n",
        "y_pos = np.arange(len(objects))\n",
        "performance = dfh['Radiação']\n",
        "\n",
        "plt.bar(y_pos, performance, align='center', alpha=1)\n",
        "plt.xticks(y_pos, objects)\n",
        "plt.gcf().set_size_inches(16,4)\n",
        "plt.ylabel('Nivel de Radiação')\n",
        "plt.xlabel('Intervalo em horas')\n",
        "plt.title('Média de Radiação ao longo do Dia')\n",
        "\n",
        "plt.show()"
      ],
      "execution_count": null,
      "outputs": [
        {
          "output_type": "display_data",
          "data": {
            "image/png": "[encoded data removed]",
            "text/plain": [
              "<Figure size 1152x288 with 1 Axes>"
            ]
          },
          "metadata": {
            "tags": [],
            "needs_background": "light"
          }
        }
      ]
    },
    {
      "cell_type": "code",
      "metadata": {
        "id": "2bHXXe44emxg",
        "colab_type": "code",
        "colab": {
          "base_uri": "https://localhost:8080/",
          "height": 105
        },
        "outputId": "d72dd014-fe8b-4ec3-904d-e21b9e01f320"
      },
      "source": [
        "# importar os pacotes necessários\n",
        "import pandas as pd\n",
        "import numpy as np\n",
        "import matplotlib.pyplot as plt\n",
        "import seaborn as sns\n",
        "#import scikitplot as skplt\n",
        "\n",
        "from sklearn.model_selection import train_test_split\n",
        "from sklearn.preprocessing import StandardScaler\n",
        "from sklearn.linear_model import LogisticRegression\n",
        "from sklearn.metrics import classification_report\n",
        "from sklearn.metrics import roc_auc_score, roc_curve, accuracy_score\n",
        "\n",
        "from imblearn.under_sampling import RandomUnderSampler\n",
        "\n",
        "# configurar o estilo dos gráficos com o Seaborn\n",
        "\n",
        "sns.set_style('dark')"
      ],
      "execution_count": null,
      "outputs": [
        {
          "output_type": "stream",
          "text": [
            "/usr/local/lib/python3.6/dist-packages/sklearn/externals/six.py:31: FutureWarning: The module is deprecated in version 0.21 and will be removed in version 0.23 since we've dropped support for Python 2.7. Please rely on the official version of six (https://pypi.org/project/six/).\n",
            "  \"(https://pypi.org/project/six/).\", FutureWarning)\n",
            "/usr/local/lib/python3.6/dist-packages/sklearn/utils/deprecation.py:144: FutureWarning: The sklearn.neighbors.base module is  deprecated in version 0.22 and will be removed in version 0.24. The corresponding classes / functions should instead be imported from sklearn.neighbors. Anything that cannot be imported from sklearn.neighbors is now part of the private API.\n",
            "  warnings.warn(message, FutureWarning)\n"
          ],
          "name": "stderr"
        }
      ]
    },
    {
      "cell_type": "code",
      "metadata": {
        "id": "kICJBzCke4GA",
        "colab_type": "code",
        "colab": {
          "base_uri": "https://localhost:8080/",
          "height": 34
        },
        "outputId": "2a7ad99e-7adc-4e43-db63-6d05473475f8"
      },
      "source": [
        "x= df.drop('Radiação', axis = 1).columns\n",
        "x\n"
      ],
      "execution_count": null,
      "outputs": [
        {
          "output_type": "execute_result",
          "data": {
            "text/plain": [
              "Index(['Data', 'Hora'], dtype='object')"
            ]
          },
          "metadata": {
            "tags": []
          },
          "execution_count": 32
        }
      ]
    },
    {
      "cell_type": "markdown",
      "metadata": {
        "id": "u7zOgggVLm0O",
        "colab_type": "text"
      },
      "source": [
        "### Conclusão:\n",
        "\n",
        "Pode-se observar uma queda na radiação de 2019 para 2020 que pode ter sido ocasionada pela covid-19.\n",
        "\n",
        "Podemos identificar também que o período do dia com maior radiação é entre 13 horas e 18 horas, representando 70% da radiação de um dia inteiro."
      ]
    }
  ]
}